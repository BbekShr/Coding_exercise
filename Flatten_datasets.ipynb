{
  "nbformat": 4,
  "nbformat_minor": 0,
  "metadata": {
    "colab": {
      "provenance": [],
      "mount_file_id": "19LvUfkCSTFnc8nX3QzkpJXZBo9sIs4dv",
      "authorship_tag": "ABX9TyPLHu3EVTlZ9c2WqLKOPovr",
      "include_colab_link": true
    },
    "kernelspec": {
      "name": "python3",
      "display_name": "Python 3"
    },
    "language_info": {
      "name": "python"
    }
  },
  "cells": [
    {
      "cell_type": "markdown",
      "metadata": {
        "id": "view-in-github",
        "colab_type": "text"
      },
      "source": [
        "<a href=\"https://colab.research.google.com/github/BbekShr/Coding_exercise/blob/main/Flatten_datasets.ipynb\" target=\"_parent\"><img src=\"https://colab.research.google.com/assets/colab-badge.svg\" alt=\"Open In Colab\"/></a>"
      ]
    },
    {
      "cell_type": "code",
      "execution_count": null,
      "metadata": {
        "id": "tKWJPfW-BMCG"
      },
      "outputs": [],
      "source": []
    },
    {
      "cell_type": "code",
      "source": [
        "import json\n",
        "import csv\n",
        "import os\n",
        "\n",
        "def flatten_record(record):\n",
        "    flattened = {}\n",
        "\n",
        "    for key, value in record.items():\n",
        "        if isinstance(value, dict):  # Handle dictionaries (e.g., { '$oid': '...' })\n",
        "            for sub_key, sub_value in value.items():\n",
        "                if sub_key == '$oid':  # Special handling for '$oid'\n",
        "                    flattened[key] = sub_value\n",
        "                else:\n",
        "                    flattened[f\"{key}_{sub_key}\"] = sub_value\n",
        "        elif isinstance(value, list):  # Handle lists (e.g., [{'barcode': '...', 'finalPrice': '...'}])\n",
        "            for idx, item in enumerate(value):\n",
        "                if isinstance(item, dict):\n",
        "                    for sub_key, sub_value in item.items():\n",
        "                        flattened[f\"{key}_{idx}_{sub_key}\"] = sub_value\n",
        "                else:\n",
        "                    flattened[f\"{key}_{idx}\"] = item\n",
        "        else:\n",
        "            flattened[key] = value\n",
        "\n",
        "    return flattened\n",
        "\n",
        "def json_to_csv(json_file_path, csv_file_path):\n",
        "    with open(json_file_path, 'r') as file:\n",
        "        data = [json.loads(line.strip()) for line in file]\n",
        "\n",
        "    # Flatten records and create headers dynamically\n",
        "    flattened_data = [flatten_record(record) for record in data]\n",
        "    header = {key for record in flattened_data for key in record.keys()}\n",
        "    header = sorted(header)\n",
        "\n",
        "    # Save the CSV to the specified path\n",
        "    with open(csv_file_path, 'w', newline='') as csv_file:\n",
        "        writer = csv.DictWriter(csv_file, fieldnames=header)\n",
        "        writer.writeheader()\n",
        "        writer.writerows(flattened_data)\n",
        "\n",
        "    print(f\"CSV saved to {csv_file_path}\")\n",
        "\n",
        "def convert_json_files_in_folder(folder_path):\n",
        "    # Create a folder named 'flatten_data' if it doesn't exist\n",
        "    output_folder = os.path.join(folder_path, 'flatten_data')\n",
        "    os.makedirs(output_folder, exist_ok=True)\n",
        "\n",
        "    for filename in os.listdir(folder_path):\n",
        "        if filename.endswith('.json'):\n",
        "            json_file_path = os.path.join(folder_path, filename)\n",
        "            csv_file_path = os.path.join(output_folder, f\"{os.path.splitext(filename)[0]}.csv\")\n",
        "\n",
        "            # Convert JSON to CSV\n",
        "            json_to_csv(json_file_path, csv_file_path)\n",
        "\n",
        "folder_path = '/content/drive/MyDrive/Colab Notebooks/Data folder'\n",
        "convert_json_files_in_folder(folder_path)"
      ],
      "metadata": {
        "id": "AvAU7E4kBPUD",
        "colab": {
          "base_uri": "https://localhost:8080/"
        },
        "outputId": "c59a726a-2671-41fd-fc70-5aeb90844237"
      },
      "execution_count": 15,
      "outputs": [
        {
          "output_type": "stream",
          "name": "stdout",
          "text": [
            "CSV saved to /content/drive/MyDrive/Colab Notebooks/Data folder/flatten_data/users.csv\n",
            "CSV saved to /content/drive/MyDrive/Colab Notebooks/Data folder/flatten_data/receipts.csv\n",
            "CSV saved to /content/drive/MyDrive/Colab Notebooks/Data folder/flatten_data/brands.csv\n"
          ]
        }
      ]
    }
  ]
}